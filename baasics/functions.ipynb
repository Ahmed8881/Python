{
 "cells": [
  {
   "cell_type": "markdown",
   "metadata": {},
   "source": [
    "# Functions\n",
    "## Introduction\n",
    "Functions are a fundamental concept in Python programming, providing a way to organize and structure code for better readability, reusability, and maintainability. In this chapter, we will explore the basics of functions, their syntax, parameters, return values, and best practices for writing effective functions in Python.\n",
    "\n",
    "### 1. Defining Functions\n",
    "A function in Python is defined using the `def` keyword, followed by the function name and a pair of parentheses. The function body is indented, and it may contain statements, expressions, and a `return` statement."
   ]
  },
  {
   "cell_type": "code",
   "execution_count": 1,
   "metadata": {},
   "outputs": [
    {
     "name": "stdout",
     "output_type": "stream",
     "text": [
      "Hello, Asad!\n"
     ]
    }
   ],
   "source": [
    "def greet(name):\n",
    "    \"\"\"A simple function to greet the user.\"\"\"\n",
    "    print(\"Hello, \" + name + \"!\")\n",
    "greet(\"Asad\")"
   ]
  },
  {
   "cell_type": "markdown",
   "metadata": {},
   "source": [
    "### 2. Function Parameters\n",
    "Functions can have parameters, which are values that the function expects to receive when it is called. Parameters are specified in the parentheses after the function name."
   ]
  },
  {
   "cell_type": "code",
   "execution_count": null,
   "metadata": {},
   "outputs": [],
   "source": [
    "def add_numbers(a:int, b:int):\n",
    "    \"\"\"A function that adds two numbers.\"\"\"\n",
    "    return a + b"
   ]
  },
  {
   "cell_type": "markdown",
   "metadata": {},
   "source": [
    "### 3. Default Parameter Values\n",
    "You can assign default values to parameters in a function. If a value is not provided for a parameter when the function is called, the default value is used."
   ]
  },
  {
   "cell_type": "code",
   "execution_count": 3,
   "metadata": {},
   "outputs": [
    {
     "name": "stdout",
     "output_type": "stream",
     "text": [
      "16\n"
     ]
    }
   ],
   "source": [
    "def power(base, exponent=2):\n",
    "    \"\"\"A function that calculates the power of a number.\"\"\"\n",
    "    return base ** exponent\n",
    "print(power(2,4))"
   ]
  },
  {
   "cell_type": "markdown",
   "metadata": {},
   "source": [
    "### 4. Docstrings\n",
    "Docstrings are strings enclosed in triple quotes that provide documentation for a function. They are used to describe the purpose of the function, its parameters, and return values. Docstrings are optional, but they are a good practice to document your functions."
   ]
  },
  {
   "cell_type": "code",
   "execution_count": null,
   "metadata": {},
   "outputs": [],
   "source": [
    "def multiply(a, b):\n",
    "    \"\"\"Multiply two numbers and return the result.\n",
    "    \n",
    "    Parameters:\n",
    "    - a: The first number\n",
    "    - b: The second number\n",
    "    \n",
    "    Returns:\n",
    "    The product of a and b\n",
    "    \"\"\"\n",
    "    return a * b"
   ]
  },
  {
   "cell_type": "markdown",
   "metadata": {},
   "source": [
    "### 5. Scope of Variables\n",
    "Variables in Python can have different scopes, determining where they can be accessed and modified. Understanding the scope of variables is crucial for writing clear and bug-free code.\n",
    "#### 5.1 Local Scope\n",
    "Variables defined inside a function have local scope, meaning they are only accessible within that function."
   ]
  },
  {
   "cell_type": "code",
   "execution_count": null,
   "metadata": {},
   "outputs": [],
   "source": [
    "def example_function():\n",
    "    local_variable = 5\n",
    "    print(local_variable)   # Accessible\n",
    "\n",
    "example_function()\n",
    "print(local_variable)       # Raises an error: NameError"
   ]
  },
  {
   "cell_type": "markdown",
   "metadata": {},
   "source": [
    "#### 5.2 Global Scope\n",
    "Variables defined outside of any function have global scope, making them accessible throughout the entire program."
   ]
  },
  {
   "cell_type": "code",
   "execution_count": 7,
   "metadata": {},
   "outputs": [
    {
     "name": "stdout",
     "output_type": "stream",
     "text": [
      "5\n",
      "10\n"
     ]
    }
   ],
   "source": [
    "global_variable = 10\n",
    "\n",
    "def example_function():\n",
    "    print(global_variable)  # Accessible\n",
    "\n",
    "example_function()\n",
    "print(global_variable)      # Accessible"
   ]
  },
  {
   "cell_type": "markdown",
   "metadata": {},
   "source": [
    "#### 5.3 Using the `global` Keyword\n",
    "The `global` keyword allows you to modify a global variable from within a function."
   ]
  },
  {
   "cell_type": "code",
   "execution_count": 8,
   "metadata": {},
   "outputs": [
    {
     "name": "stdout",
     "output_type": "stream",
     "text": [
      "15\n"
     ]
    }
   ],
   "source": [
    "global_variable = 10\n",
    "\n",
    "def modify_global():\n",
    "    global global_variable\n",
    "    global_variable += 5\n",
    "\n",
    "modify_global()\n",
    "print(global_variable)  "
   ]
  }
 ],
 "metadata": {
  "kernelspec": {
   "display_name": "Python 3",
   "language": "python",
   "name": "python3"
  },
  "language_info": {
   "codemirror_mode": {
    "name": "ipython",
    "version": 3
   },
   "file_extension": ".py",
   "mimetype": "text/x-python",
   "name": "python",
   "nbconvert_exporter": "python",
   "pygments_lexer": "ipython3",
   "version": "3.11.6"
  }
 },
 "nbformat": 4,
 "nbformat_minor": 2
}
