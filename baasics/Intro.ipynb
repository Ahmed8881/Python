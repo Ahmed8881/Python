{
 "cells": [
  {
   "cell_type": "markdown",
   "metadata": {},
   "source": [
    "# Introduction to Python Basics\n",
    "\n",
    "## 1. Variables and Data Types"
   ]
  },
  {
   "cell_type": "code",
   "execution_count": 2,
   "metadata": {},
   "outputs": [
    {
     "name": "stdout",
     "output_type": "stream",
     "text": [
      "<class 'bool'>\n"
     ]
    }
   ],
   "source": [
    "# Example:\n",
    "name = \"John\"   # String\n",
    "age = 25        # int\n",
    "height = 1.75   # float\n",
    "is_student = True   # Bool\n",
    "print(type(is_student))   #print the type of the variable"
   ]
  },
  {
   "cell_type": "markdown",
   "metadata": {},
   "source": [
    "## 2. Basic Operations\n",
    "\n",
    "### 2.1 Arithmetic Operations"
   ]
  },
  {
   "cell_type": "code",
   "execution_count": null,
   "metadata": {},
   "outputs": [],
   "source": [
    "# Example:\n",
    "a = 10\n",
    "b = 3\n",
    "print(a + b)        # Addition\n",
    "print(a - b)        # Subraction\n",
    "print(a * b)        # Multiplication\n",
    "print(a / b)        # Division  (returns a float)\n",
    "print(a // b)       # Floor Division (returns an integer)\n",
    "print(a % b)        # Modulus Operator\n",
    "print(a**b)         # Exponentiation\n",
    "from math import fabs,ceil             #ceil function can also be imported from math module  \n",
    "print(fabs(-3.12))                      #appears in quiz--fabs actually returns the absolute value ie positive value of a number\n",
    "print(ceil(a/b))                     "
   ]
  },
  {
   "cell_type": "markdown",
   "metadata": {},
   "source": [
    "### 2.2 String Operations"
   ]
  },
  {
   "cell_type": "code",
   "execution_count": 15,
   "metadata": {},
   "outputs": [
    {
     "name": "stdout",
     "output_type": "stream",
     "text": [
      "HelloHelloHello\n"
     ]
    }
   ],
   "source": [
    "# Example:\n",
    "str1 = \"Hello\"\n",
    "str2 = \"World\"\n",
    "concatenated_str = str1 + \" \" +str2    #concatenates the two strings \n",
    "multiplied_str = str1 * 3             #multiplies the string 3 times \n",
    "print(multiplied_str)"
   ]
  },
  {
   "cell_type": "markdown",
   "metadata": {},
   "source": [
    "## 3. Input and Output Functions\n",
    "\n",
    "### 3.1 Input Function (`input()`)\n",
    "- The `input()` function is used to take user input.\n",
    "- It takes an optional parameter `prompt`, that display a message to get the input"
   ]
  },
  {
   "cell_type": "code",
   "execution_count": 17,
   "metadata": {},
   "outputs": [
    {
     "name": "stdout",
     "output_type": "stream",
     "text": [
      "Hello, ahmed!\n"
     ]
    }
   ],
   "source": [
    "user_name = input(\"Enter your name: \")\n",
    "print(\"Hello, \" + user_name + \"!\")        #concatenates the string with the user input"
   ]
  },
  {
   "cell_type": "markdown",
   "metadata": {},
   "source": [
    "### 3.2 Print Function (`print()`)\n",
    "\n",
    "- The `print()` function is used to display output on the console\n",
    "- It can be used to display strings, variables and can also display result of an expression"
   ]
  },
  {
   "cell_type": "code",
   "execution_count": null,
   "metadata": {},
   "outputs": [],
   "source": [
    "a = \"hello world\"\n",
    "print(a)\n",
    "print()                          #prints a blank line because by default contain \\n\n",
    "print(\"Hello\")\n",
    "print(1+2)\n",
    "print(1 > 2)\n",
    "print(2 * a)"
   ]
  },
  {
   "cell_type": "markdown",
   "metadata": {},
   "source": [
    "### 3.3 The `end` argument\n",
    "\n",
    "- `print()` takes an optional keyword argument called `end`\n",
    "- It determines behaviour of print function after printing the provided value\n",
    "- By default, it's value is `\\n`, that is why `print()` add a newline after printing anything by default\n",
    "- You can set it to anything (See examples below)"
   ]
  },
  {
   "cell_type": "code",
   "execution_count": null,
   "metadata": {},
   "outputs": [],
   "source": [
    "# Simple print\n",
    "print(23)\n",
    "print()         # Print an empty line due to \\n\n",
    "print(\"Hello\")"
   ]
  },
  {
   "cell_type": "code",
   "execution_count": 24,
   "metadata": {},
   "outputs": [
    {
     "name": "stdout",
     "output_type": "stream",
     "text": [
      "23,44,Hello\n"
     ]
    }
   ],
   "source": [
    "# Modified print\n",
    "print(23, end=\" \")\n",
    "print(44)"
   ]
  },
  {
   "cell_type": "code",
   "execution_count": null,
   "metadata": {},
   "outputs": [],
   "source": [
    "# Another example\n",
    "for i in range(5):              # We will study loops in next cell later\n",
    "    print(i,end=\",\")"
   ]
  },
  {
   "cell_type": "markdown",
   "metadata": {},
   "source": [
    "### 3.4 Formatted Output\n",
    "- To easily print values, variables or expression in a string\n",
    "- You can Prepend a `f` before the string like this `f\"\"` to make a formatted string"
   ]
  },
  {
   "cell_type": "code",
   "execution_count": 26,
   "metadata": {},
   "outputs": [
    {
     "name": "stdout",
     "output_type": "stream",
     "text": [
      "Arwa is teaching.\n"
     ]
    }
   ],
   "source": [
    "# Example:\n",
    "name = \"Arwa\"\n",
    "score = 55\n",
    "print(f\"{name} is teaching.\")\n"
   ]
  },
  {
   "cell_type": "markdown",
   "metadata": {},
   "source": [
    "## 4. Control Flow\n",
    "\n",
    "### 4.1 Conditional Statements"
   ]
  },
  {
   "cell_type": "code",
   "execution_count": null,
   "metadata": {},
   "outputs": [],
   "source": [
    "x = 10\n",
    "y = 20\n",
    "\n",
    "if x > y:\n",
    "    print(\"x is greater than y\")\n",
    "elif x < y:\n",
    "    print(\"x is less than y\")\n",
    "else:\n",
    "    print(\"x is equal to y\")"
   ]
  },
  {
   "cell_type": "markdown",
   "metadata": {},
   "source": [
    "### 4.2 Single line if-else block\n",
    "\n",
    "- `if` conditions can also be written in single lines\n",
    "- The syntax is:   \n",
    "{value if condition is true} `if` {condition} `else` {value if condition is false}"
   ]
  },
  {
   "cell_type": "code",
   "execution_count": 15,
   "metadata": {},
   "outputs": [
    {
     "name": "stdout",
     "output_type": "stream",
     "text": [
      "20\n"
     ]
    }
   ],
   "source": [
    "a = 10\n",
    "b = 20\n",
    "\n",
    "c = a if a > b else b                    #below code in one line\n",
    "print(c)\n",
    "\n",
    "# if a > b:\n",
    "#     c = a\n",
    "# else:\n",
    "#     c = b"
   ]
  },
  {
   "cell_type": "markdown",
   "metadata": {},
   "source": [
    "- The code above assigns value of `a` to `c` if `a > c` otherwise, value of `b` is assigned to `c`"
   ]
  },
  {
   "cell_type": "markdown",
   "metadata": {},
   "source": [
    "### 4.3 Loops\n",
    "#### 4.3.1 `for` Loop\n",
    "- `for` loop is used to loop over a range, or any iterable (list,tuple,dictionaries,strings etc.) object\n",
    "- Syntax:\n",
    "`for` {loop variable} in {iterable}:"
   ]
  },
  {
   "cell_type": "markdown",
   "metadata": {},
   "source": [
    "##### 4.3.1.1 Looping over a range\n",
    "- To loop over a range of numbers the `range()` function is used.\n",
    "- The `range()` function can be used in following ways:\n",
    "- `range(stop)`:  `stop` specifies the last value for the loop. The last value is not included."
   ]
  },
  {
   "cell_type": "code",
   "execution_count": 33,
   "metadata": {},
   "outputs": [
    {
     "name": "stdout",
     "output_type": "stream",
     "text": [
      "0,1,2,3,4\n"
     ]
    }
   ],
   "source": [
    "# Iterate from 0 to 4     (stop value is not included)\n",
    "for i in range(5):\n",
    "    print(i,end=\",\")                                           ##if i != 4 else print(i)\n",
    "# c++ equivalent\n",
    "# for (int i =0;i<5;i++)\n",
    "# {cout << i;}"
   ]
  },
  {
   "cell_type": "markdown",
   "metadata": {},
   "source": [
    "- Using `range(start,stop)`:\n",
    "- Start specifies the starting value for the loop\n",
    "- By default it's `zero`"
   ]
  },
  {
   "cell_type": "code",
   "execution_count": null,
   "metadata": {},
   "outputs": [],
   "source": [
    "# Iterate from 2 to 7\n",
    "for i in range(2,8):                              #do with stop\n",
    "    print(i)"
   ]
  },
  {
   "cell_type": "markdown",
   "metadata": {},
   "source": [
    "- Using range(start,stop,step):\n",
    "- By default, Step is 1"
   ]
  },
  {
   "cell_type": "code",
   "execution_count": null,
   "metadata": {},
   "outputs": [],
   "source": [
    "# Print even numbers from 0 to 100\n",
    "for i in range(0,101,2):                    ## task to  print odd\n",
    "    print(i, end=\" \")"
   ]
  },
  {
   "cell_type": "markdown",
   "metadata": {},
   "source": [
    "##### 4.3.1.2 Looping over Iterables"
   ]
  },
  {
   "cell_type": "markdown",
   "metadata": {},
   "source": [
    "- Iterating over a list or tuple"
   ]
  },
  {
   "cell_type": "code",
   "execution_count": 60,
   "metadata": {},
   "outputs": [
    {
     "name": "stdout",
     "output_type": "stream",
     "text": [
      "banana\n",
      "apples\n",
      "1\n",
      "12.1\n",
      "True\n",
      "fruitss\n"
     ]
    }
   ],
   "source": [
    "# Iterating a list\n",
    "fruits = [\"apples\",\"banana\",\"orange\",1,12.1,True]\n",
    "fruits.append(\"fruitss\")\n",
    "a = fruits.pop(1)\n",
    "print(a)\n",
    "for i in fruits:\n",
    "    print(i)"
   ]
  },
  {
   "cell_type": "code",
   "execution_count": 61,
   "metadata": {},
   "outputs": [
    {
     "name": "stdout",
     "output_type": "stream",
     "text": [
      "red\n",
      "green\n",
      "yellow\n",
      "True\n",
      "False\n",
      "23\n"
     ]
    }
   ],
   "source": [
    "# Iterating a tuple\n",
    "colors = (\"red\",\"green\",\"yellow\",True,False,23)\n",
    "for i in colors:\n",
    "    print(i)"
   ]
  },
  {
   "cell_type": "markdown",
   "metadata": {},
   "source": [
    "- Looping over a string"
   ]
  },
  {
   "cell_type": "code",
   "execution_count": 62,
   "metadata": {},
   "outputs": [
    {
     "name": "stdout",
     "output_type": "stream",
     "text": [
      "H e l l o   W o r l d "
     ]
    }
   ],
   "source": [
    "alphabets = \"Hello World\"\n",
    "for i in alphabets:\n",
    "    print(i,end=\" \")"
   ]
  },
  {
   "cell_type": "markdown",
   "metadata": {},
   "source": [
    " The `enumerate()` function:\n",
    "- This function can be used to get both index and value while looping over an iterable"
   ]
  },
  {
   "cell_type": "markdown",
   "metadata": {},
   "source": [
    "This can store index first and then value\n"
   ]
  },
  {
   "cell_type": "code",
   "execution_count": null,
   "metadata": {},
   "outputs": [],
   "source": [
    "numbers = [10,20,30,40,50]\n",
    "for index,value in enumerate(numbers):\n",
    "    print(f\"Index {index} has value {value}\")"
   ]
  },
  {
   "cell_type": "markdown",
   "metadata": {},
   "source": [
    "- If you just need the index you can also loop over like this:"
   ]
  },
  {
   "cell_type": "code",
   "execution_count": 68,
   "metadata": {},
   "outputs": [
    {
     "name": "stdout",
     "output_type": "stream",
     "text": [
      "0\n",
      "1\n",
      "2\n",
      "3\n",
      "4\n"
     ]
    }
   ],
   "source": [
    "for i in range(len(numbers)):   # uses len() function to get the length of list\n",
    "    print(i)"
   ]
  },
  {
   "cell_type": "markdown",
   "metadata": {},
   "source": [
    "#### 4.3.2 `while` loop"
   ]
  },
  {
   "cell_type": "code",
   "execution_count": 72,
   "metadata": {},
   "outputs": [
    {
     "name": "stdout",
     "output_type": "stream",
     "text": [
      "wrong output\n"
     ]
    }
   ],
   "source": [
    "i = 20\n",
    "while i < 10:\n",
    "    print(i)                                             # clear the concept of use of else  in while\n",
    "    i += 1\n",
    "else:\n",
    "    print(\"wrong output\")   "
   ]
  },
  {
   "cell_type": "markdown",
   "metadata": {},
   "source": [
    "## 5. Functions\n",
    "### 5.1 Defining Functions\n",
    "- Syntax:\n",
    "`def functionName(comma-seperated arguments):`"
   ]
  },
  {
   "cell_type": "code",
   "execution_count": 87,
   "metadata": {},
   "outputs": [
    {
     "name": "stdout",
     "output_type": "stream",
     "text": [
      "8\n",
      "ahmedUGYUYU\n"
     ]
    }
   ],
   "source": [
    "def sum(a:int,b:int):\n",
    "    return a+b\n",
    "print(sum(5,3))\n",
    "\n"
   ]
  }
 ],
 "metadata": {
  "kernelspec": {
   "display_name": "Python 3",
   "language": "python",
   "name": "python3"
  },
  "language_info": {
   "codemirror_mode": {
    "name": "ipython",
    "version": 3
   },
   "file_extension": ".py",
   "mimetype": "text/x-python",
   "name": "python",
   "nbconvert_exporter": "python",
   "pygments_lexer": "ipython3",
   "version": "3.12.0"
  }
 },
 "nbformat": 4,
 "nbformat_minor": 2
}
